{
 "cells": [
  {
   "cell_type": "markdown",
   "metadata": {},
   "source": [
    "**2**\n",
    "<br> </br>\n",
    "*Yelp Reviews*"
   ]
  },
  {
   "cell_type": "code",
   "execution_count": 23,
   "metadata": {},
   "outputs": [
    {
     "name": "stdout",
     "output_type": "stream",
     "text": [
      "Requirement already satisfied: beautifulsoup4 in /opt/anaconda3/lib/python3.7/site-packages (4.8.2)\n",
      "Requirement already satisfied: soupsieve>=1.2 in /opt/anaconda3/lib/python3.7/site-packages (from beautifulsoup4) (1.9.5)\n",
      "Note: you may need to restart the kernel to use updated packages.\n"
     ]
    }
   ],
   "source": [
    "pip install beautifulsoup4"
   ]
  },
  {
   "cell_type": "code",
   "execution_count": 3,
   "metadata": {},
   "outputs": [],
   "source": [
    "from bs4 import BeautifulSoup\n",
    "import urllib.request\n",
    "import pandas as pd\n",
    "import requests"
   ]
  },
  {
   "cell_type": "code",
   "execution_count": 4,
   "metadata": {},
   "outputs": [],
   "source": [
    "url = 'https://www.yelp.com/biz/seed-mill-new-york?osq=Ice+Cream'\n",
    "\n",
    "my_url = urllib.request.urlopen(url)"
   ]
  },
  {
   "cell_type": "code",
   "execution_count": 5,
   "metadata": {},
   "outputs": [],
   "source": [
    "soup = BeautifulSoup(my_url, 'html.parser')"
   ]
  },
  {
   "cell_type": "code",
   "execution_count": 164,
   "metadata": {},
   "outputs": [],
   "source": [
    "rating_list1 = []\n",
    "review_list1 = []\n",
    "\n",
    "for i in range(0, 12):\n",
    "    \n",
    "    if i == 0:\n",
    "        url = 'https://www.yelp.com/biz/seed-mill-new-york?osq=Ice%20Cream'\n",
    "    else:\n",
    "        url = 'https://www.yelp.com/biz/seed-mill-new-york?osq=Ice%20Cream&start='+str(10*i)\n",
    "    \n",
    "    my_url = urllib.request.urlopen(url)\n",
    "    \n",
    "    soup = BeautifulSoup(my_url, 'html.parser')\n",
    "    for i in soup.find_all('div', {'class': \"review__373c0__3MsBX border-color--default__373c0__1WKlL\"}):\n",
    "        rating = i.find('div', {'class': 'i-stars__373c0___sZu0'})\n",
    "        rating_list1.append(rating.get('aria-label'))\n",
    "        comment = i.find('p',{'class':'comment__373c0__Nsutg css-n6i4z7'}).text\n",
    "        review_list1.append(comment)\n"
   ]
  },
  {
   "cell_type": "code",
   "execution_count": 165,
   "metadata": {},
   "outputs": [
    {
     "data": {
      "text/plain": [
       "100"
      ]
     },
     "execution_count": 165,
     "metadata": {},
     "output_type": "execute_result"
    }
   ],
   "source": [
    "\n",
    "len(rating_list1)"
   ]
  },
  {
   "cell_type": "code",
   "execution_count": 166,
   "metadata": {},
   "outputs": [
    {
     "data": {
      "text/plain": [
       "100"
      ]
     },
     "execution_count": 166,
     "metadata": {},
     "output_type": "execute_result"
    }
   ],
   "source": [
    "len(review_list1)\n"
   ]
  },
  {
   "cell_type": "code",
   "execution_count": 169,
   "metadata": {},
   "outputs": [],
   "source": [
    "review_Id = []\n",
    "i = 1\n",
    "while i <= 100:\n",
    "    review_Id.append(i)\n",
    "    i += 1"
   ]
  },
  {
   "cell_type": "code",
   "execution_count": 171,
   "metadata": {},
   "outputs": [],
   "source": [
    "df = pd.DataFrame(list(zip(review_Id, rating_list1, review_list1)),\n",
    "                 columns = ['Review ID', 'Review Rating', 'Review Text'])"
   ]
  },
  {
   "cell_type": "code",
   "execution_count": 172,
   "metadata": {},
   "outputs": [
    {
     "data": {
      "text/html": [
       "<div>\n",
       "<style scoped>\n",
       "    .dataframe tbody tr th:only-of-type {\n",
       "        vertical-align: middle;\n",
       "    }\n",
       "\n",
       "    .dataframe tbody tr th {\n",
       "        vertical-align: top;\n",
       "    }\n",
       "\n",
       "    .dataframe thead th {\n",
       "        text-align: right;\n",
       "    }\n",
       "</style>\n",
       "<table border=\"1\" class=\"dataframe\">\n",
       "  <thead>\n",
       "    <tr style=\"text-align: right;\">\n",
       "      <th></th>\n",
       "      <th>Review ID</th>\n",
       "      <th>Review Rating</th>\n",
       "      <th>Review Text</th>\n",
       "    </tr>\n",
       "  </thead>\n",
       "  <tbody>\n",
       "    <tr>\n",
       "      <th>0</th>\n",
       "      <td>1</td>\n",
       "      <td>5 star rating</td>\n",
       "      <td>We randomly came across this stall at Chelsea ...</td>\n",
       "    </tr>\n",
       "    <tr>\n",
       "      <th>1</th>\n",
       "      <td>2</td>\n",
       "      <td>5 star rating</td>\n",
       "      <td>So delicious. So much so that I decided their ...</td>\n",
       "    </tr>\n",
       "    <tr>\n",
       "      <th>2</th>\n",
       "      <td>3</td>\n",
       "      <td>3 star rating</td>\n",
       "      <td>If you love Tahini or Havla, come here ASAP. I...</td>\n",
       "    </tr>\n",
       "    <tr>\n",
       "      <th>3</th>\n",
       "      <td>4</td>\n",
       "      <td>3 star rating</td>\n",
       "      <td>After seeing Seed + Mill repeatedly pop up in ...</td>\n",
       "    </tr>\n",
       "    <tr>\n",
       "      <th>4</th>\n",
       "      <td>5</td>\n",
       "      <td>5 star rating</td>\n",
       "      <td>I was walking around the market which is still...</td>\n",
       "    </tr>\n",
       "    <tr>\n",
       "      <th>...</th>\n",
       "      <td>...</td>\n",
       "      <td>...</td>\n",
       "      <td>...</td>\n",
       "    </tr>\n",
       "    <tr>\n",
       "      <th>95</th>\n",
       "      <td>96</td>\n",
       "      <td>5 star rating</td>\n",
       "      <td>Seed + Mill is awesome! The staff are so frien...</td>\n",
       "    </tr>\n",
       "    <tr>\n",
       "      <th>96</th>\n",
       "      <td>97</td>\n",
       "      <td>3 star rating</td>\n",
       "      <td>You know how some people have a gene where the...</td>\n",
       "    </tr>\n",
       "    <tr>\n",
       "      <th>97</th>\n",
       "      <td>98</td>\n",
       "      <td>5 star rating</td>\n",
       "      <td>Best ice cream ever!!  We had just eaten a hug...</td>\n",
       "    </tr>\n",
       "    <tr>\n",
       "      <th>98</th>\n",
       "      <td>99</td>\n",
       "      <td>5 star rating</td>\n",
       "      <td>I dream about Seed + Mill when I'm not in New ...</td>\n",
       "    </tr>\n",
       "    <tr>\n",
       "      <th>99</th>\n",
       "      <td>100</td>\n",
       "      <td>5 star rating</td>\n",
       "      <td>Seed + Mill was the surprise highlight of my t...</td>\n",
       "    </tr>\n",
       "  </tbody>\n",
       "</table>\n",
       "<p>100 rows × 3 columns</p>\n",
       "</div>"
      ],
      "text/plain": [
       "    Review ID  Review Rating  \\\n",
       "0           1  5 star rating   \n",
       "1           2  5 star rating   \n",
       "2           3  3 star rating   \n",
       "3           4  3 star rating   \n",
       "4           5  5 star rating   \n",
       "..        ...            ...   \n",
       "95         96  5 star rating   \n",
       "96         97  3 star rating   \n",
       "97         98  5 star rating   \n",
       "98         99  5 star rating   \n",
       "99        100  5 star rating   \n",
       "\n",
       "                                          Review Text  \n",
       "0   We randomly came across this stall at Chelsea ...  \n",
       "1   So delicious. So much so that I decided their ...  \n",
       "2   If you love Tahini or Havla, come here ASAP. I...  \n",
       "3   After seeing Seed + Mill repeatedly pop up in ...  \n",
       "4   I was walking around the market which is still...  \n",
       "..                                                ...  \n",
       "95  Seed + Mill is awesome! The staff are so frien...  \n",
       "96  You know how some people have a gene where the...  \n",
       "97  Best ice cream ever!!  We had just eaten a hug...  \n",
       "98  I dream about Seed + Mill when I'm not in New ...  \n",
       "99  Seed + Mill was the surprise highlight of my t...  \n",
       "\n",
       "[100 rows x 3 columns]"
      ]
     },
     "execution_count": 172,
     "metadata": {},
     "output_type": "execute_result"
    }
   ],
   "source": [
    "df"
   ]
  },
  {
   "cell_type": "code",
   "execution_count": 174,
   "metadata": {},
   "outputs": [],
   "source": [
    "df.to_csv('yelpReviews.csv', index = False)"
   ]
  }
 ],
 "metadata": {
  "kernelspec": {
   "display_name": "Python 3",
   "language": "python",
   "name": "python3"
  },
  "language_info": {
   "codemirror_mode": {
    "name": "ipython",
    "version": 3
   },
   "file_extension": ".py",
   "mimetype": "text/x-python",
   "name": "python",
   "nbconvert_exporter": "python",
   "pygments_lexer": "ipython3",
   "version": "3.7.6"
  }
 },
 "nbformat": 4,
 "nbformat_minor": 4
}
