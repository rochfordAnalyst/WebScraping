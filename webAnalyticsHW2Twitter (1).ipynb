{
 "cells": [
  {
   "cell_type": "code",
   "execution_count": 1,
   "metadata": {},
   "outputs": [],
   "source": [
    "import os\n",
    "import tweepy\n",
    "import pandas as pd"
   ]
  },
  {
   "cell_type": "code",
   "execution_count": 2,
   "metadata": {},
   "outputs": [],
   "source": [
    "#bearer token\n",
    "#AAAAAAAAAAAAAAAAAAAAAJ%2FcVAEAAAAA%2FjH5W%2BfM%2BI06nUy%2FnMmZxtRnDvg%3DOfAn0H9mleHHAHmfzXLV4CI9zUOckT62nvGE96C7uC2MImU6RX\n",
    "auth = tweepy.auth.OAuthHandler('Pu0Vvu4FzvuxcAbcPkovboW6I', 'R9RoEALiuv7Q5f9IhYbYeQE4j9TKo1SyJrSE5KF2oMnz2EJkhs')\n",
    "auth.set_access_token('1453796646274408449-sGIKFFuyeQ2ppGDkZCCZlL4FhFNxy8', 't2vwiUYIkFukjBmHPa7mY98Zkd3fFB3geb9eY6iGxt6Cn')\n",
    "\n",
    "api = tweepy.API(auth, wait_on_rate_limit=True)"
   ]
  },
  {
   "cell_type": "code",
   "execution_count": 8,
   "metadata": {},
   "outputs": [],
   "source": [
    "hash_tags_list2 = ['#MercedesAMG', '#Mercedes-AMG', '#audisport', '#audiS','#audiRS', '#audiRS5','audiR8','#BMWM', '#bmwM3','#bmwM6']\n",
    "num_tweets = 150\n",
    "user_id = []\n",
    "screen_name = []\n",
    "followers = []\n",
    "location = []\n",
    "text = []\n",
    "\n",
    "for i in hash_tags_list2:\n",
    "    tweets = tweepy.Cursor(api.search_tweets, q = i, count = 100, lang='en').items(num_tweets)\n",
    "    for tweet in tweets:\n",
    "        \n",
    "        user_id.append(tweet.id)\n",
    "        screen_name.append(tweet.user.screen_name)\n",
    "        followers.append(tweet.user.followers_count)\n",
    "        location.append(tweet.user.location)\n",
    "        text.append(tweet.text.encode('utf-8'))"
   ]
  },
  {
   "cell_type": "code",
   "execution_count": 9,
   "metadata": {},
   "outputs": [
    {
     "data": {
      "text/plain": [
       "578"
      ]
     },
     "execution_count": 9,
     "metadata": {},
     "output_type": "execute_result"
    }
   ],
   "source": [
    "len(user_id)"
   ]
  },
  {
   "cell_type": "code",
   "execution_count": 10,
   "metadata": {},
   "outputs": [],
   "source": [
    "df = pd.DataFrame(list(zip(screen_name, followers, location, text)),\n",
    "                 columns = ['User Screen Name', 'Number of Followers', 'Location', 'Tweet'])"
   ]
  },
  {
   "cell_type": "code",
   "execution_count": 14,
   "metadata": {},
   "outputs": [],
   "source": [
    "df_tweets = pd.DataFrame(list(zip(text)),\n",
    "                        columns = ['tweets'])"
   ]
  },
  {
   "cell_type": "code",
   "execution_count": 11,
   "metadata": {},
   "outputs": [
    {
     "data": {
      "text/html": [
       "<div>\n",
       "<style scoped>\n",
       "    .dataframe tbody tr th:only-of-type {\n",
       "        vertical-align: middle;\n",
       "    }\n",
       "\n",
       "    .dataframe tbody tr th {\n",
       "        vertical-align: top;\n",
       "    }\n",
       "\n",
       "    .dataframe thead th {\n",
       "        text-align: right;\n",
       "    }\n",
       "</style>\n",
       "<table border=\"1\" class=\"dataframe\">\n",
       "  <thead>\n",
       "    <tr style=\"text-align: right;\">\n",
       "      <th></th>\n",
       "      <th>User Screen Name</th>\n",
       "      <th>Number of Followers</th>\n",
       "      <th>Location</th>\n",
       "      <th>Tweet</th>\n",
       "    </tr>\n",
       "  </thead>\n",
       "  <tbody>\n",
       "    <tr>\n",
       "      <th>0</th>\n",
       "      <td>fa6oom_99</td>\n",
       "      <td>794</td>\n",
       "      <td>London | Kuwait</td>\n",
       "      <td>b'RT @MB_Press: The new #MercedesAMG SL, the r...</td>\n",
       "    </tr>\n",
       "    <tr>\n",
       "      <th>1</th>\n",
       "      <td>MB_Press</td>\n",
       "      <td>11715</td>\n",
       "      <td>Stuttgart, Deutschland</td>\n",
       "      <td>b'Roof down, heart rate up. The all-new #Merce...</td>\n",
       "    </tr>\n",
       "    <tr>\n",
       "      <th>2</th>\n",
       "      <td>John_Stickel</td>\n",
       "      <td>605</td>\n",
       "      <td></td>\n",
       "      <td>b'RT @MercedesAMG: Extraordinary design - insi...</td>\n",
       "    </tr>\n",
       "    <tr>\n",
       "      <th>3</th>\n",
       "      <td>Norbert41796076</td>\n",
       "      <td>7</td>\n",
       "      <td>Wienerfeld, Wien</td>\n",
       "      <td>b'RT @MB_Press: The new #MercedesAMG SL, the r...</td>\n",
       "    </tr>\n",
       "    <tr>\n",
       "      <th>4</th>\n",
       "      <td>thalapathyvjy18</td>\n",
       "      <td>416</td>\n",
       "      <td>Tiruppur/Bangalore</td>\n",
       "      <td>b'RT @MercedesBenzUSA: More style per mile. @M...</td>\n",
       "    </tr>\n",
       "    <tr>\n",
       "      <th>...</th>\n",
       "      <td>...</td>\n",
       "      <td>...</td>\n",
       "      <td>...</td>\n",
       "      <td>...</td>\n",
       "    </tr>\n",
       "    <tr>\n",
       "      <th>573</th>\n",
       "      <td>tylerfilipponi</td>\n",
       "      <td>1186</td>\n",
       "      <td></td>\n",
       "      <td>b'RT @gwc415: The G80 M3 is starting to grow o...</td>\n",
       "    </tr>\n",
       "    <tr>\n",
       "      <th>574</th>\n",
       "      <td>MotorsportRt</td>\n",
       "      <td>74</td>\n",
       "      <td></td>\n",
       "      <td>b'RT @LazenbyVisuals: The BMW M6 of JR Motorsp...</td>\n",
       "    </tr>\n",
       "    <tr>\n",
       "      <th>575</th>\n",
       "      <td>AdamoBoccitto</td>\n",
       "      <td>53</td>\n",
       "      <td>Toronto, Ontario</td>\n",
       "      <td>b'BMW X6 - the reflective Flex is pretty hard-...</td>\n",
       "    </tr>\n",
       "    <tr>\n",
       "      <th>576</th>\n",
       "      <td>LazenbyVisuals</td>\n",
       "      <td>648</td>\n",
       "      <td>North Yorkshire. UK.</td>\n",
       "      <td>b'The BMW M6 of JR Motorsport back at the @Hun...</td>\n",
       "    </tr>\n",
       "    <tr>\n",
       "      <th>577</th>\n",
       "      <td>10SecondRacing</td>\n",
       "      <td>75</td>\n",
       "      <td>Princeton, NJ</td>\n",
       "      <td>b'\\xf0\\x9f\\x93\\xb8: @maxs_carphotography \\n\\xf...</td>\n",
       "    </tr>\n",
       "  </tbody>\n",
       "</table>\n",
       "<p>578 rows × 4 columns</p>\n",
       "</div>"
      ],
      "text/plain": [
       "    User Screen Name  Number of Followers                Location  \\\n",
       "0          fa6oom_99                  794         London | Kuwait   \n",
       "1           MB_Press                11715  Stuttgart, Deutschland   \n",
       "2       John_Stickel                  605                           \n",
       "3    Norbert41796076                    7        Wienerfeld, Wien   \n",
       "4    thalapathyvjy18                  416      Tiruppur/Bangalore   \n",
       "..               ...                  ...                     ...   \n",
       "573   tylerfilipponi                 1186                           \n",
       "574     MotorsportRt                   74                           \n",
       "575    AdamoBoccitto                   53        Toronto, Ontario   \n",
       "576   LazenbyVisuals                  648    North Yorkshire. UK.   \n",
       "577   10SecondRacing                   75           Princeton, NJ   \n",
       "\n",
       "                                                 Tweet  \n",
       "0    b'RT @MB_Press: The new #MercedesAMG SL, the r...  \n",
       "1    b'Roof down, heart rate up. The all-new #Merce...  \n",
       "2    b'RT @MercedesAMG: Extraordinary design - insi...  \n",
       "3    b'RT @MB_Press: The new #MercedesAMG SL, the r...  \n",
       "4    b'RT @MercedesBenzUSA: More style per mile. @M...  \n",
       "..                                                 ...  \n",
       "573  b'RT @gwc415: The G80 M3 is starting to grow o...  \n",
       "574  b'RT @LazenbyVisuals: The BMW M6 of JR Motorsp...  \n",
       "575  b'BMW X6 - the reflective Flex is pretty hard-...  \n",
       "576  b'The BMW M6 of JR Motorsport back at the @Hun...  \n",
       "577  b'\\xf0\\x9f\\x93\\xb8: @maxs_carphotography \\n\\xf...  \n",
       "\n",
       "[578 rows x 4 columns]"
      ]
     },
     "execution_count": 11,
     "metadata": {},
     "output_type": "execute_result"
    }
   ],
   "source": [
    "df"
   ]
  },
  {
   "cell_type": "code",
   "execution_count": 12,
   "metadata": {},
   "outputs": [],
   "source": [
    "df.to_csv('luxuryCarTweets1.csv', index = False)"
   ]
  },
  {
   "cell_type": "code",
   "execution_count": 15,
   "metadata": {},
   "outputs": [],
   "source": [
    "df_tweets.to_csv('luxuryCarTweetsOnly1.csv', index = False)"
   ]
  }
 ],
 "metadata": {
  "kernelspec": {
   "display_name": "Python 3",
   "language": "python",
   "name": "python3"
  },
  "language_info": {
   "codemirror_mode": {
    "name": "ipython",
    "version": 3
   },
   "file_extension": ".py",
   "mimetype": "text/x-python",
   "name": "python",
   "nbconvert_exporter": "python",
   "pygments_lexer": "ipython3",
   "version": "3.7.6"
  }
 },
 "nbformat": 4,
 "nbformat_minor": 4
}
