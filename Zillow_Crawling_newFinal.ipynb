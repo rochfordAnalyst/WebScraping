{
 "cells": [
  {
   "cell_type": "code",
   "execution_count": 3,
   "metadata": {},
   "outputs": [
    {
     "name": "stdout",
     "output_type": "stream",
     "text": [
      "Requirement already satisfied: prettify in /opt/anaconda3/lib/python3.7/site-packages (0.1.1)\n",
      "Note: you may need to restart the kernel to use updated packages.\n"
     ]
    }
   ],
   "source": [
    "pip install prettify"
   ]
  },
  {
   "cell_type": "code",
   "execution_count": 4,
   "metadata": {},
   "outputs": [
    {
     "name": "stdout",
     "output_type": "stream",
     "text": [
      "Requirement already satisfied: htmltext in /opt/anaconda3/lib/python3.7/site-packages (0.0.7)\n",
      "Requirement already satisfied: lxml in /opt/anaconda3/lib/python3.7/site-packages (from htmltext) (4.6.3)\n",
      "Requirement already satisfied: beautifulsoup4 in /opt/anaconda3/lib/python3.7/site-packages (from htmltext) (4.8.2)\n",
      "Requirement already satisfied: soupsieve>=1.2 in /opt/anaconda3/lib/python3.7/site-packages (from beautifulsoup4->htmltext) (1.9.5)\n",
      "Note: you may need to restart the kernel to use updated packages.\n"
     ]
    }
   ],
   "source": [
    "pip install htmltext"
   ]
  },
  {
   "cell_type": "code",
   "execution_count": 5,
   "metadata": {},
   "outputs": [],
   "source": [
    "import requests\n",
    "from bs4 import BeautifulSoup\n",
    "from datetime import date\n",
    "import csv\n",
    "import os\n",
    "import json\n",
    "import urllib.request\n",
    "import pandas as pd\n",
    "from datetime import date\n",
    "import pandas as pd\n",
    "import regex as re\n",
    "import requests\n",
    "import lxml\n",
    "from lxml.html.soupparser import fromstring\n",
    "import prettify\n",
    "import numbers\n",
    "import htmltext"
   ]
  },
  {
   "cell_type": "code",
   "execution_count": 6,
   "metadata": {},
   "outputs": [],
   "source": [
    "headers = {\n",
    "    'accept': '*/*',\n",
    "    'content-type': 'text/html;charset=UTF-8',\n",
    "    'content-encoding': 'gzip',\n",
    "    'origin': 'www.zillow.com',\n",
    "    'User-Agent': 'Mozilla/5.0 (Macintosh; Intel Mac OS X 11_2_3) AppleWebKit/537.36 (KHTML, like Gecko) Chrome/89.0.4389.90 Safari/537.36'\n",
    "}"
   ]
  },
  {
   "cell_type": "code",
   "execution_count": 7,
   "metadata": {},
   "outputs": [],
   "source": [
    "url = 'https://www.zillow.com/homes/10023_rb/'\n",
    "response = requests.get(url)"
   ]
  },
  {
   "cell_type": "code",
   "execution_count": 6,
   "metadata": {},
   "outputs": [
    {
     "data": {
      "text/plain": [
       "200"
      ]
     },
     "execution_count": 6,
     "metadata": {},
     "output_type": "execute_result"
    }
   ],
   "source": [
    "response.status_code"
   ]
  },
  {
   "cell_type": "code",
   "execution_count": 8,
   "metadata": {},
   "outputs": [],
   "source": [
    "num_listings = 150\n",
    "\n",
    "rental = False\n",
    "\n",
    "# initiators listed here\n",
    "address = []\n",
    "bedrooms = []\n",
    "price = []\n",
    "bathrooms = []\n",
    "sq_footage = []\n",
    "h_link = []\n",
    "days_on_zillow = []\n",
    "num_views = []\n",
    "year_built = []\n",
    "\n",
    "# record when the data is crawled\n",
    "date_today = date.today()\n",
    "\n",
    "count = 1\n",
    "\n",
    "url = 'https://www.zillow.com/manhattan-new-york-ny-10023/?searchQueryState=%7B%22pagination%22%3A%7B%7D%2C%22usersSearchTerm%22%3A%2210023%22%2C%22mapBounds%22%3A%7B%22west%22%3A-73.99686607418823%2C%22east%22%3A-73.96652492581177%2C%22south%22%3A40.76760605031455%2C%22north%22%3A40.785999948592256%7D%2C%22regionSelection%22%3A%5B%7B%22regionId%22%3A61637%2C%22regionType%22%3A7%7D%5D%2C%22isMapVisible%22%3Atrue%2C%22filterState%22%3A%7B%22ah%22%3A%7B%22value%22%3Atrue%7D%7D%2C%22isListVisible%22%3Atrue%2C%22mapZoom%22%3A15%7D'.format(count)\n",
    "\n",
    "r = requests.get(url, headers=headers)\n",
    "\n",
    "soup = BeautifulSoup(r.content, 'html.parser')\n",
    "\n",
    "crawled_listing = 0\n",
    "\n",
    "while num_listings > crawled_listing:\n",
    "    for s1 in soup.find_all('div', {'class': 'list-card-info'}):\n",
    "        \n",
    "        try:\n",
    "            address.append(s1.find('address', {'class': 'list-card-addr'}).text)\n",
    "        except Exception:\n",
    "            address.append('N/A')\n",
    "        try:\n",
    "            price.append(s1.find('div', {'class': 'list-card-price'}).text)\n",
    "        except Exception:\n",
    "            price.append('N/A')\n",
    "        try:\n",
    "            h_link.append(s1.find('a', {'class': 'list-card-link list-card-link-top-margin'}).get('href'))\n",
    "        except Exception:\n",
    "            h_link.append('N/A')\n",
    "        \n",
    "        #House Page\n",
    "        if h_link[-1] != 'N/A':\n",
    "            try:\n",
    "                r1 = requests.get(h_link[-1], headers=headers)\n",
    "            except Exception:\n",
    "                days_on_zillow.append('N/A')\n",
    "                num_views.append('N/A')\n",
    "                year_built.append('N/A')\n",
    "                \n",
    "            s2 = BeautifulSoup(r1.content, 'html.parser')\n",
    "            link2 = s2.find('div', {'id': 'home-details-content'})\n",
    "            \n",
    "            \n",
    "            try:\n",
    "                bedrooms.append(link2.find_all('span', {'class': 'hdp__sc-rfpg3m-0 hfjEIQ'})[0].text)\n",
    "            except Exception:\n",
    "                bedrooms.append('N/A')\n",
    "            try:\n",
    "                bathrooms.append(link2.find_all('span', {'class': 'hdp__sc-rfpg3m-0 hfjEIQ'})[1].text)\n",
    "            except Exception:\n",
    "                bathrooms.append('N/A')\n",
    "            try:\n",
    "                sq_footage.append(link2.find_all('span', {'class': 'hdp__sc-rfpg3m-0 hfjEIQ'})[2].text)\n",
    "            except Exception:\n",
    "                sq_footage.append('N/A')\n",
    "            try:\n",
    "                days_on_zillow.append(link2.find_all('div', {'class': 'hdp__sc-1j01zad-1 kuboKK'})[1].text)\n",
    "            except Exception:\n",
    "                days_on_zillow.append('N/A')\n",
    "            try:\n",
    "                num_views.append(link2.find('div', {'class': 'hdp__sc-1j01zad-1 kuboKK'})[2].text)\n",
    "            except Exception:\n",
    "                num_views.append('N/A')\n",
    "            try:\n",
    "                year_built.append(link2.find_all('span', {'class': 'Text-c11n-8-53-2__sc-aiai24-0 hdp__sc-1esuh59-3 cvftlt hjZqSR'})[1].text)\n",
    "            except Exception:\n",
    "                year_built.append('N/A')\n",
    "\n",
    "            \n",
    "        \n",
    "        \n",
    "\n",
    "        \n",
    "        crawled_listing += 1\n",
    "        if num_listings == crawled_listing:\n",
    "            break\n",
    "    count += 1\n",
    "    r = requests.get(url, headers=headers)\n",
    "\n",
    "    soup = BeautifulSoup(r.content, 'html.parser')"
   ]
  },
  {
   "cell_type": "code",
   "execution_count": 9,
   "metadata": {},
   "outputs": [],
   "source": [
    "df = pd.DataFrame(list(zip(address, price, bedrooms, bathrooms, sq_footage, days_on_zillow, num_views, year_built)),\n",
    "                 columns = ['address', 'price', 'bedrooms', 'bathroom', 'Sq_footage', 'Days on Zillow','num views', 'Year Built'])\n",
    "\n",
    "\n"
   ]
  },
  {
   "cell_type": "code",
   "execution_count": 10,
   "metadata": {},
   "outputs": [
    {
     "data": {
      "text/html": [
       "<div>\n",
       "<style scoped>\n",
       "    .dataframe tbody tr th:only-of-type {\n",
       "        vertical-align: middle;\n",
       "    }\n",
       "\n",
       "    .dataframe tbody tr th {\n",
       "        vertical-align: top;\n",
       "    }\n",
       "\n",
       "    .dataframe thead th {\n",
       "        text-align: right;\n",
       "    }\n",
       "</style>\n",
       "<table border=\"1\" class=\"dataframe\">\n",
       "  <thead>\n",
       "    <tr style=\"text-align: right;\">\n",
       "      <th></th>\n",
       "      <th>address</th>\n",
       "      <th>price</th>\n",
       "      <th>bedrooms</th>\n",
       "      <th>bathroom</th>\n",
       "      <th>Sq_footage</th>\n",
       "      <th>Days on Zillow</th>\n",
       "      <th>num views</th>\n",
       "      <th>Year Built</th>\n",
       "    </tr>\n",
       "  </thead>\n",
       "  <tbody>\n",
       "    <tr>\n",
       "      <th>0</th>\n",
       "      <td>160 W 66th St APT 52E, New York, NY 10023</td>\n",
       "      <td>$3,698,000</td>\n",
       "      <td>2 bd</td>\n",
       "      <td>3 ba</td>\n",
       "      <td>1,312 sqft</td>\n",
       "      <td>Time on Zillow54 minutes|Views26|Saves0Magnifi...</td>\n",
       "      <td>N/A</td>\n",
       "      <td>1990</td>\n",
       "    </tr>\n",
       "    <tr>\n",
       "      <th>1</th>\n",
       "      <td>200 Amsterdam Ave APT 30B, New York, NY 10023</td>\n",
       "      <td>$9,100,000</td>\n",
       "      <td>3 bd</td>\n",
       "      <td>4 ba</td>\n",
       "      <td>2,677 sqft</td>\n",
       "      <td>Time on Zillow1 day|Views43|Saves1Delivering 2...</td>\n",
       "      <td>N/A</td>\n",
       "      <td>2021</td>\n",
       "    </tr>\n",
       "    <tr>\n",
       "      <th>2</th>\n",
       "      <td>200 Amsterdam Ave APT 29A, New York, NY 10023</td>\n",
       "      <td>$15,500,000</td>\n",
       "      <td>4 bd</td>\n",
       "      <td>5 ba</td>\n",
       "      <td>3,622 sqft</td>\n",
       "      <td>Time on Zillow1 day|Views138|Saves5|Delivering...</td>\n",
       "      <td>N/A</td>\n",
       "      <td>2021</td>\n",
       "    </tr>\n",
       "    <tr>\n",
       "      <th>3</th>\n",
       "      <td>200 Amsterdam Ave APT 27B, New York, NY 10023</td>\n",
       "      <td>$6,880,000</td>\n",
       "      <td>3 bd</td>\n",
       "      <td>4 ba</td>\n",
       "      <td>2,221 sqft</td>\n",
       "      <td>Time on Zillow1 day|Views89|Saves2|Delivering ...</td>\n",
       "      <td>N/A</td>\n",
       "      <td>2021</td>\n",
       "    </tr>\n",
       "    <tr>\n",
       "      <th>4</th>\n",
       "      <td>200 Amsterdam Ave APT 28A, New York, NY 10023</td>\n",
       "      <td>$9,750,000</td>\n",
       "      <td>4 bd</td>\n",
       "      <td>5 ba</td>\n",
       "      <td>2,589 sqft</td>\n",
       "      <td>Time on Zillow1 day|Views62|Saves1|Delivering ...</td>\n",
       "      <td>N/A</td>\n",
       "      <td>2021</td>\n",
       "    </tr>\n",
       "    <tr>\n",
       "      <th>...</th>\n",
       "      <td>...</td>\n",
       "      <td>...</td>\n",
       "      <td>...</td>\n",
       "      <td>...</td>\n",
       "      <td>...</td>\n",
       "      <td>...</td>\n",
       "      <td>...</td>\n",
       "      <td>...</td>\n",
       "    </tr>\n",
       "    <tr>\n",
       "      <th>130</th>\n",
       "      <td>160 W 66th St APT 52E, New York, NY 10023</td>\n",
       "      <td>$3,698,000</td>\n",
       "      <td>3 bd</td>\n",
       "      <td>4 ba</td>\n",
       "      <td>2,677 sqft</td>\n",
       "      <td>Time on Zillow1 day|Views43|Saves1Delivering 2...</td>\n",
       "      <td>N/A</td>\n",
       "      <td>2021</td>\n",
       "    </tr>\n",
       "    <tr>\n",
       "      <th>131</th>\n",
       "      <td>200 Amsterdam Ave #3A, New York, NY 10023</td>\n",
       "      <td>$7,975,000</td>\n",
       "      <td>3 bd</td>\n",
       "      <td>4 ba</td>\n",
       "      <td>2,221 sqft</td>\n",
       "      <td>Time on Zillow1 day|Views89|Saves2Delivering 2...</td>\n",
       "      <td>N/A</td>\n",
       "      <td>2021</td>\n",
       "    </tr>\n",
       "    <tr>\n",
       "      <th>132</th>\n",
       "      <td>200 Amsterdam Ave APT 27B, New York, NY 10023</td>\n",
       "      <td>$6,880,000</td>\n",
       "      <td>1 bd</td>\n",
       "      <td>1 ba</td>\n",
       "      <td>788 sqft</td>\n",
       "      <td>Time on Zillow1 day|Views272|Saves12|Oversized...</td>\n",
       "      <td>N/A</td>\n",
       "      <td>1932</td>\n",
       "    </tr>\n",
       "    <tr>\n",
       "      <th>133</th>\n",
       "      <td>200 Amsterdam Ave APT 29A, New York, NY 10023</td>\n",
       "      <td>$15,500,000</td>\n",
       "      <td>2 bd</td>\n",
       "      <td>2 ba</td>\n",
       "      <td>1,052 sqft</td>\n",
       "      <td>Time on Zillow1 day|Views211|Saves7Spacious an...</td>\n",
       "      <td>N/A</td>\n",
       "      <td>1969</td>\n",
       "    </tr>\n",
       "    <tr>\n",
       "      <th>134</th>\n",
       "      <td>200 Amsterdam Ave APT 30B, New York, NY 10023</td>\n",
       "      <td>$9,100,000</td>\n",
       "      <td>-- bd</td>\n",
       "      <td>1 ba</td>\n",
       "      <td>-- sqft</td>\n",
       "      <td>Time on Zillow2 days|Views165|Saves4|Move righ...</td>\n",
       "      <td>N/A</td>\n",
       "      <td>1965</td>\n",
       "    </tr>\n",
       "  </tbody>\n",
       "</table>\n",
       "<p>135 rows × 8 columns</p>\n",
       "</div>"
      ],
      "text/plain": [
       "                                           address        price bedrooms  \\\n",
       "0        160 W 66th St APT 52E, New York, NY 10023   $3,698,000     2 bd   \n",
       "1    200 Amsterdam Ave APT 30B, New York, NY 10023   $9,100,000     3 bd   \n",
       "2    200 Amsterdam Ave APT 29A, New York, NY 10023  $15,500,000     4 bd   \n",
       "3    200 Amsterdam Ave APT 27B, New York, NY 10023   $6,880,000     3 bd   \n",
       "4    200 Amsterdam Ave APT 28A, New York, NY 10023   $9,750,000     4 bd   \n",
       "..                                             ...          ...      ...   \n",
       "130      160 W 66th St APT 52E, New York, NY 10023   $3,698,000     3 bd   \n",
       "131      200 Amsterdam Ave #3A, New York, NY 10023   $7,975,000     3 bd   \n",
       "132  200 Amsterdam Ave APT 27B, New York, NY 10023   $6,880,000     1 bd   \n",
       "133  200 Amsterdam Ave APT 29A, New York, NY 10023  $15,500,000     2 bd   \n",
       "134  200 Amsterdam Ave APT 30B, New York, NY 10023   $9,100,000    -- bd   \n",
       "\n",
       "    bathroom  Sq_footage                                     Days on Zillow  \\\n",
       "0       3 ba  1,312 sqft  Time on Zillow54 minutes|Views26|Saves0Magnifi...   \n",
       "1       4 ba  2,677 sqft  Time on Zillow1 day|Views43|Saves1Delivering 2...   \n",
       "2       5 ba  3,622 sqft  Time on Zillow1 day|Views138|Saves5|Delivering...   \n",
       "3       4 ba  2,221 sqft  Time on Zillow1 day|Views89|Saves2|Delivering ...   \n",
       "4       5 ba  2,589 sqft  Time on Zillow1 day|Views62|Saves1|Delivering ...   \n",
       "..       ...         ...                                                ...   \n",
       "130     4 ba  2,677 sqft  Time on Zillow1 day|Views43|Saves1Delivering 2...   \n",
       "131     4 ba  2,221 sqft  Time on Zillow1 day|Views89|Saves2Delivering 2...   \n",
       "132     1 ba    788 sqft  Time on Zillow1 day|Views272|Saves12|Oversized...   \n",
       "133     2 ba  1,052 sqft  Time on Zillow1 day|Views211|Saves7Spacious an...   \n",
       "134     1 ba     -- sqft  Time on Zillow2 days|Views165|Saves4|Move righ...   \n",
       "\n",
       "    num views Year Built  \n",
       "0         N/A       1990  \n",
       "1         N/A       2021  \n",
       "2         N/A       2021  \n",
       "3         N/A       2021  \n",
       "4         N/A       2021  \n",
       "..        ...        ...  \n",
       "130       N/A       2021  \n",
       "131       N/A       2021  \n",
       "132       N/A       1932  \n",
       "133       N/A       1969  \n",
       "134       N/A       1965  \n",
       "\n",
       "[135 rows x 8 columns]"
      ]
     },
     "execution_count": 10,
     "metadata": {},
     "output_type": "execute_result"
    }
   ],
   "source": [
    "df"
   ]
  },
  {
   "cell_type": "code",
   "execution_count": 12,
   "metadata": {},
   "outputs": [],
   "source": [
    "df['Time_on_Zillow'] = df['Days on Zillow'].str.split('|').str[0]\n",
    "df['Number_of_Views'] = df['Days on Zillow'].str.split('|').str[1]\n",
    "\n"
   ]
  },
  {
   "cell_type": "code",
   "execution_count": 13,
   "metadata": {},
   "outputs": [],
   "source": [
    "df[\"Time on Zillow\"] = df['Time_on_Zillow'].str.split.iloc[-1].str[1]\n",
    "df[\"Number of Views\"] = df['Number_of_Views'].str.split('s').str[1]"
   ]
  },
  {
   "cell_type": "code",
   "execution_count": 14,
   "metadata": {},
   "outputs": [],
   "source": [
    "df = df.drop(columns=['Days on Zillow', 'num views', 'Time_on_Zillow', 'Number_of_Views'])"
   ]
  },
  {
   "cell_type": "code",
   "execution_count": 15,
   "metadata": {},
   "outputs": [
    {
     "data": {
      "text/html": [
       "<div>\n",
       "<style scoped>\n",
       "    .dataframe tbody tr th:only-of-type {\n",
       "        vertical-align: middle;\n",
       "    }\n",
       "\n",
       "    .dataframe tbody tr th {\n",
       "        vertical-align: top;\n",
       "    }\n",
       "\n",
       "    .dataframe thead th {\n",
       "        text-align: right;\n",
       "    }\n",
       "</style>\n",
       "<table border=\"1\" class=\"dataframe\">\n",
       "  <thead>\n",
       "    <tr style=\"text-align: right;\">\n",
       "      <th></th>\n",
       "      <th>address</th>\n",
       "      <th>price</th>\n",
       "      <th>bedrooms</th>\n",
       "      <th>bathroom</th>\n",
       "      <th>Sq_footage</th>\n",
       "      <th>Year Built</th>\n",
       "      <th>Time on Zillow</th>\n",
       "      <th>Number of Views</th>\n",
       "    </tr>\n",
       "  </thead>\n",
       "  <tbody>\n",
       "    <tr>\n",
       "      <th>0</th>\n",
       "      <td>160 W 66th St APT 52E, New York, NY 10023</td>\n",
       "      <td>$3,698,000</td>\n",
       "      <td>2 bd</td>\n",
       "      <td>3 ba</td>\n",
       "      <td>1,312 sqft</td>\n",
       "      <td>1990</td>\n",
       "      <td>54 minutes</td>\n",
       "      <td>26</td>\n",
       "    </tr>\n",
       "    <tr>\n",
       "      <th>1</th>\n",
       "      <td>200 Amsterdam Ave APT 30B, New York, NY 10023</td>\n",
       "      <td>$9,100,000</td>\n",
       "      <td>3 bd</td>\n",
       "      <td>4 ba</td>\n",
       "      <td>2,677 sqft</td>\n",
       "      <td>2021</td>\n",
       "      <td>1 day</td>\n",
       "      <td>43</td>\n",
       "    </tr>\n",
       "    <tr>\n",
       "      <th>2</th>\n",
       "      <td>200 Amsterdam Ave APT 29A, New York, NY 10023</td>\n",
       "      <td>$15,500,000</td>\n",
       "      <td>4 bd</td>\n",
       "      <td>5 ba</td>\n",
       "      <td>3,622 sqft</td>\n",
       "      <td>2021</td>\n",
       "      <td>1 day</td>\n",
       "      <td>138</td>\n",
       "    </tr>\n",
       "    <tr>\n",
       "      <th>3</th>\n",
       "      <td>200 Amsterdam Ave APT 27B, New York, NY 10023</td>\n",
       "      <td>$6,880,000</td>\n",
       "      <td>3 bd</td>\n",
       "      <td>4 ba</td>\n",
       "      <td>2,221 sqft</td>\n",
       "      <td>2021</td>\n",
       "      <td>1 day</td>\n",
       "      <td>89</td>\n",
       "    </tr>\n",
       "    <tr>\n",
       "      <th>4</th>\n",
       "      <td>200 Amsterdam Ave APT 28A, New York, NY 10023</td>\n",
       "      <td>$9,750,000</td>\n",
       "      <td>4 bd</td>\n",
       "      <td>5 ba</td>\n",
       "      <td>2,589 sqft</td>\n",
       "      <td>2021</td>\n",
       "      <td>1 day</td>\n",
       "      <td>62</td>\n",
       "    </tr>\n",
       "    <tr>\n",
       "      <th>...</th>\n",
       "      <td>...</td>\n",
       "      <td>...</td>\n",
       "      <td>...</td>\n",
       "      <td>...</td>\n",
       "      <td>...</td>\n",
       "      <td>...</td>\n",
       "      <td>...</td>\n",
       "      <td>...</td>\n",
       "    </tr>\n",
       "    <tr>\n",
       "      <th>130</th>\n",
       "      <td>160 W 66th St APT 52E, New York, NY 10023</td>\n",
       "      <td>$3,698,000</td>\n",
       "      <td>3 bd</td>\n",
       "      <td>4 ba</td>\n",
       "      <td>2,677 sqft</td>\n",
       "      <td>2021</td>\n",
       "      <td>1 day</td>\n",
       "      <td>43</td>\n",
       "    </tr>\n",
       "    <tr>\n",
       "      <th>131</th>\n",
       "      <td>200 Amsterdam Ave #3A, New York, NY 10023</td>\n",
       "      <td>$7,975,000</td>\n",
       "      <td>3 bd</td>\n",
       "      <td>4 ba</td>\n",
       "      <td>2,221 sqft</td>\n",
       "      <td>2021</td>\n",
       "      <td>1 day</td>\n",
       "      <td>89</td>\n",
       "    </tr>\n",
       "    <tr>\n",
       "      <th>132</th>\n",
       "      <td>200 Amsterdam Ave APT 27B, New York, NY 10023</td>\n",
       "      <td>$6,880,000</td>\n",
       "      <td>1 bd</td>\n",
       "      <td>1 ba</td>\n",
       "      <td>788 sqft</td>\n",
       "      <td>1932</td>\n",
       "      <td>1 day</td>\n",
       "      <td>272</td>\n",
       "    </tr>\n",
       "    <tr>\n",
       "      <th>133</th>\n",
       "      <td>200 Amsterdam Ave APT 29A, New York, NY 10023</td>\n",
       "      <td>$15,500,000</td>\n",
       "      <td>2 bd</td>\n",
       "      <td>2 ba</td>\n",
       "      <td>1,052 sqft</td>\n",
       "      <td>1969</td>\n",
       "      <td>1 day</td>\n",
       "      <td>211</td>\n",
       "    </tr>\n",
       "    <tr>\n",
       "      <th>134</th>\n",
       "      <td>200 Amsterdam Ave APT 30B, New York, NY 10023</td>\n",
       "      <td>$9,100,000</td>\n",
       "      <td>-- bd</td>\n",
       "      <td>1 ba</td>\n",
       "      <td>-- sqft</td>\n",
       "      <td>1965</td>\n",
       "      <td>2 days</td>\n",
       "      <td>165</td>\n",
       "    </tr>\n",
       "  </tbody>\n",
       "</table>\n",
       "<p>135 rows × 8 columns</p>\n",
       "</div>"
      ],
      "text/plain": [
       "                                           address        price bedrooms  \\\n",
       "0        160 W 66th St APT 52E, New York, NY 10023   $3,698,000     2 bd   \n",
       "1    200 Amsterdam Ave APT 30B, New York, NY 10023   $9,100,000     3 bd   \n",
       "2    200 Amsterdam Ave APT 29A, New York, NY 10023  $15,500,000     4 bd   \n",
       "3    200 Amsterdam Ave APT 27B, New York, NY 10023   $6,880,000     3 bd   \n",
       "4    200 Amsterdam Ave APT 28A, New York, NY 10023   $9,750,000     4 bd   \n",
       "..                                             ...          ...      ...   \n",
       "130      160 W 66th St APT 52E, New York, NY 10023   $3,698,000     3 bd   \n",
       "131      200 Amsterdam Ave #3A, New York, NY 10023   $7,975,000     3 bd   \n",
       "132  200 Amsterdam Ave APT 27B, New York, NY 10023   $6,880,000     1 bd   \n",
       "133  200 Amsterdam Ave APT 29A, New York, NY 10023  $15,500,000     2 bd   \n",
       "134  200 Amsterdam Ave APT 30B, New York, NY 10023   $9,100,000    -- bd   \n",
       "\n",
       "    bathroom  Sq_footage Year Built Time on Zillow Number of Views  \n",
       "0       3 ba  1,312 sqft       1990     54 minutes              26  \n",
       "1       4 ba  2,677 sqft       2021          1 day              43  \n",
       "2       5 ba  3,622 sqft       2021          1 day             138  \n",
       "3       4 ba  2,221 sqft       2021          1 day              89  \n",
       "4       5 ba  2,589 sqft       2021          1 day              62  \n",
       "..       ...         ...        ...            ...             ...  \n",
       "130     4 ba  2,677 sqft       2021          1 day              43  \n",
       "131     4 ba  2,221 sqft       2021          1 day              89  \n",
       "132     1 ba    788 sqft       1932          1 day             272  \n",
       "133     2 ba  1,052 sqft       1969          1 day             211  \n",
       "134     1 ba     -- sqft       1965         2 days             165  \n",
       "\n",
       "[135 rows x 8 columns]"
      ]
     },
     "execution_count": 15,
     "metadata": {},
     "output_type": "execute_result"
    }
   ],
   "source": [
    "df"
   ]
  },
  {
   "cell_type": "code",
   "execution_count": 18,
   "metadata": {},
   "outputs": [],
   "source": [
    "df.to_csv('Zillow_CrawlingFinal.csv', index = False)"
   ]
  },
  {
   "cell_type": "code",
   "execution_count": 26,
   "metadata": {},
   "outputs": [],
   "source": [
    "import matplotlib.pyplot as plt"
   ]
  },
  {
   "cell_type": "code",
   "execution_count": 16,
   "metadata": {},
   "outputs": [],
   "source": [
    "df_copy = pd.DataFrame(list(zip(address, price, bedrooms, bathrooms, sq_footage, days_on_zillow, year_built)),\n",
    "                 columns = ['address', 'price', 'bedrooms', 'bathroom', 'Sq_footage', 'Days on Zillow','Year Built'])"
   ]
  },
  {
   "cell_type": "code",
   "execution_count": 17,
   "metadata": {},
   "outputs": [
    {
     "data": {
      "text/plain": [
       "0      <class 'str'>\n",
       "1      <class 'str'>\n",
       "2      <class 'str'>\n",
       "3      <class 'str'>\n",
       "4      <class 'str'>\n",
       "           ...      \n",
       "130    <class 'str'>\n",
       "131    <class 'str'>\n",
       "132    <class 'str'>\n",
       "133    <class 'str'>\n",
       "134    <class 'str'>\n",
       "Name: price, Length: 135, dtype: object"
      ]
     },
     "execution_count": 17,
     "metadata": {},
     "output_type": "execute_result"
    }
   ],
   "source": [
    "df_copy['price'].apply(type)"
   ]
  },
  {
   "cell_type": "code",
   "execution_count": 18,
   "metadata": {},
   "outputs": [
    {
     "data": {
      "text/plain": [
       "0       3698000\n",
       "1       9100000\n",
       "2      15500000\n",
       "3       6880000\n",
       "4       9750000\n",
       "         ...   \n",
       "130     3698000\n",
       "131     7975000\n",
       "132     6880000\n",
       "133    15500000\n",
       "134     9100000\n",
       "Name: price, Length: 135, dtype: object"
      ]
     },
     "execution_count": 18,
     "metadata": {},
     "output_type": "execute_result"
    }
   ],
   "source": [
    "df_copy['price'] = df_copy['price'].str.replace(',','')\n",
    "df_copy['price'] = df_copy['price'].str.replace('$','')\n",
    "df_copy['price']"
   ]
  },
  {
   "cell_type": "code",
   "execution_count": 19,
   "metadata": {},
   "outputs": [],
   "source": [
    "df_copy['price'] = df_copy['price'].str.replace('+','')\n",
    "df_copy['price'] = df_copy['price'].str.replace('N/A','0')"
   ]
  },
  {
   "cell_type": "code",
   "execution_count": 20,
   "metadata": {},
   "outputs": [],
   "source": [
    "df_copy['price'] = df_copy['price'].astype('float')"
   ]
  },
  {
   "cell_type": "code",
   "execution_count": 21,
   "metadata": {},
   "outputs": [
    {
     "data": {
      "text/plain": [
       "0       3698000.0\n",
       "1       9100000.0\n",
       "2      15500000.0\n",
       "3       6880000.0\n",
       "4       9750000.0\n",
       "          ...    \n",
       "130     3698000.0\n",
       "131     7975000.0\n",
       "132     6880000.0\n",
       "133    15500000.0\n",
       "134     9100000.0\n",
       "Name: price, Length: 135, dtype: float64"
      ]
     },
     "execution_count": 21,
     "metadata": {},
     "output_type": "execute_result"
    }
   ],
   "source": [
    "df_copy['price']"
   ]
  },
  {
   "cell_type": "code",
   "execution_count": 22,
   "metadata": {},
   "outputs": [],
   "source": [
    "meanPrice_by_beds = df_copy.groupby('bedrooms', as_index=False)['price'].mean()"
   ]
  },
  {
   "cell_type": "code",
   "execution_count": 23,
   "metadata": {},
   "outputs": [
    {
     "data": {
      "text/html": [
       "<div>\n",
       "<style scoped>\n",
       "    .dataframe tbody tr th:only-of-type {\n",
       "        vertical-align: middle;\n",
       "    }\n",
       "\n",
       "    .dataframe tbody tr th {\n",
       "        vertical-align: top;\n",
       "    }\n",
       "\n",
       "    .dataframe thead th {\n",
       "        text-align: right;\n",
       "    }\n",
       "</style>\n",
       "<table border=\"1\" class=\"dataframe\">\n",
       "  <thead>\n",
       "    <tr style=\"text-align: right;\">\n",
       "      <th></th>\n",
       "      <th>bedrooms</th>\n",
       "      <th>price</th>\n",
       "    </tr>\n",
       "  </thead>\n",
       "  <tbody>\n",
       "    <tr>\n",
       "      <th>0</th>\n",
       "      <td>-- bd</td>\n",
       "      <td>5.189133e+06</td>\n",
       "    </tr>\n",
       "    <tr>\n",
       "      <th>1</th>\n",
       "      <td>1 bd</td>\n",
       "      <td>6.079500e+06</td>\n",
       "    </tr>\n",
       "    <tr>\n",
       "      <th>2</th>\n",
       "      <td>2 bd</td>\n",
       "      <td>5.338917e+06</td>\n",
       "    </tr>\n",
       "    <tr>\n",
       "      <th>3</th>\n",
       "      <td>3 bd</td>\n",
       "      <td>6.555600e+06</td>\n",
       "    </tr>\n",
       "    <tr>\n",
       "      <th>4</th>\n",
       "      <td>4 bd</td>\n",
       "      <td>6.156517e+06</td>\n",
       "    </tr>\n",
       "    <tr>\n",
       "      <th>5</th>\n",
       "      <td>5 bd</td>\n",
       "      <td>4.761000e+06</td>\n",
       "    </tr>\n",
       "  </tbody>\n",
       "</table>\n",
       "</div>"
      ],
      "text/plain": [
       "  bedrooms         price\n",
       "0    -- bd  5.189133e+06\n",
       "1     1 bd  6.079500e+06\n",
       "2     2 bd  5.338917e+06\n",
       "3     3 bd  6.555600e+06\n",
       "4     4 bd  6.156517e+06\n",
       "5     5 bd  4.761000e+06"
      ]
     },
     "execution_count": 23,
     "metadata": {},
     "output_type": "execute_result"
    }
   ],
   "source": [
    "meanPrice_by_beds"
   ]
  },
  {
   "cell_type": "code",
   "execution_count": 24,
   "metadata": {},
   "outputs": [
    {
     "data": {
      "text/plain": [
       "0    <class 'str'>\n",
       "1    <class 'str'>\n",
       "2    <class 'str'>\n",
       "3    <class 'str'>\n",
       "4    <class 'str'>\n",
       "5    <class 'str'>\n",
       "Name: bedrooms, dtype: object"
      ]
     },
     "execution_count": 24,
     "metadata": {},
     "output_type": "execute_result"
    }
   ],
   "source": [
    "meanPrice_by_beds['bedrooms'].apply(type)"
   ]
  },
  {
   "cell_type": "code",
   "execution_count": 28,
   "metadata": {},
   "outputs": [
    {
     "data": {
      "text/plain": [
       "0    <class 'float'>\n",
       "1    <class 'float'>\n",
       "2    <class 'float'>\n",
       "3    <class 'float'>\n",
       "4    <class 'float'>\n",
       "5    <class 'float'>\n",
       "Name: price, dtype: object"
      ]
     },
     "execution_count": 28,
     "metadata": {},
     "output_type": "execute_result"
    }
   ],
   "source": [
    "meanPrice_by_beds['price'].apply(type)"
   ]
  },
  {
   "cell_type": "code",
   "execution_count": 27,
   "metadata": {},
   "outputs": [
    {
     "data": {
      "text/plain": [
       "Text(0.5, 1.0, 'Average House price by number of bedrooms')"
      ]
     },
     "execution_count": 27,
     "metadata": {},
     "output_type": "execute_result"
    },
    {
     "data": {
      "image/png": "[encoded data removed]",
      "text/plain": [
       "<Figure size 432x288 with 1 Axes>"
      ]
     },
     "metadata": {
      "needs_background": "light"
     },
     "output_type": "display_data"
    }
   ],
   "source": [
    "plt.bar(meanPrice_by_beds.bedrooms, meanPrice_by_beds.price)\n",
    "plt.xlabel(\"Number of bedrooms\")\n",
    "plt.ylabel(\"House Price\")\n",
    "plt.title(\"Average House price by number of bedrooms\")"
   ]
  },
  {
   "cell_type": "code",
   "execution_count": 345,
   "metadata": {},
   "outputs": [],
   "source": [
    "meanPrice_by_baths = df_copy.groupby('bathroom', as_index=False)['price'].mean()"
   ]
  },
  {
   "cell_type": "code",
   "execution_count": 348,
   "metadata": {},
   "outputs": [
    {
     "data": {
      "text/plain": [
       "Text(0.5, 1.0, 'Average House price by number of bathrooms')"
      ]
     },
     "execution_count": 348,
     "metadata": {},
     "output_type": "execute_result"
    },
    {
     "data": {
      "image/png": "[encoded data removed]",
      "text/plain": [
       "<Figure size 432x288 with 1 Axes>"
      ]
     },
     "metadata": {
      "needs_background": "light"
     },
     "output_type": "display_data"
    }
   ],
   "source": [
    "plt.bar(meanPrice_by_baths.bathroom, meanPrice_by_baths.price)\n",
    "plt.xlabel(\"Number of bathrooms\")\n",
    "plt.ylabel(\"House Price\")\n",
    "plt.title(\"Average House price by number of bathrooms\")"
   ]
  },
  {
   "cell_type": "code",
   "execution_count": 324,
   "metadata": {},
   "outputs": [],
   "source": [
    "price_list = []\n",
    "price_list = df_copy['price'].astype('float').mean()"
   ]
  },
  {
   "cell_type": "code",
   "execution_count": 325,
   "metadata": {},
   "outputs": [
    {
     "data": {
      "text/plain": [
       "3433166.6666666665"
      ]
     },
     "execution_count": 325,
     "metadata": {},
     "output_type": "execute_result"
    }
   ],
   "source": [
    "price_list"
   ]
  },
  {
   "cell_type": "code",
   "execution_count": 323,
   "metadata": {},
   "outputs": [
    {
     "data": {
      "text/plain": [
       "3433166.6666666665"
      ]
     },
     "execution_count": 323,
     "metadata": {},
     "output_type": "execute_result"
    }
   ],
   "source": [
    "price_list_mean = price_list.mean()\n",
    "price_list_mean"
   ]
  },
  {
   "cell_type": "code",
   "execution_count": 309,
   "metadata": {},
   "outputs": [],
   "source": [
    "#df[['bedrooms','bathrooms','sq_footage']] = df.bedrooms.str.split(expand=True)"
   ]
  }
 ],
 "metadata": {
  "kernelspec": {
   "display_name": "Python 3",
   "language": "python",
   "name": "python3"
  },
  "language_info": {
   "codemirror_mode": {
    "name": "ipython",
    "version": 3
   },
   "file_extension": ".py",
   "mimetype": "text/x-python",
   "name": "python",
   "nbconvert_exporter": "python",
   "pygments_lexer": "ipython3",
   "version": "3.7.6"
  }
 },
 "nbformat": 4,
 "nbformat_minor": 4
}
